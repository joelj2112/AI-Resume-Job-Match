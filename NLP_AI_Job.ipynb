{
  "nbformat": 4,
  "nbformat_minor": 0,
  "metadata": {
    "colab": {
      "provenance": []
    },
    "kernelspec": {
      "name": "python3",
      "display_name": "Python 3"
    },
    "language_info": {
      "name": "python"
    }
  },
  "cells": [
    {
      "cell_type": "code",
      "execution_count": 1,
      "metadata": {
        "colab": {
          "base_uri": "https://localhost:8080/"
        },
        "id": "pSbN7w-eSsnh",
        "outputId": "3e65fab2-3b32-421d-b5d5-71fe686bdd90"
      },
      "outputs": [
        {
          "output_type": "stream",
          "name": "stdout",
          "text": [
            "\u001b[2K   \u001b[90m━━━━━━━━━━━━━━━━━━━━━━━━━━━━━━━━━━━━━━━━\u001b[0m \u001b[32m10.0/10.0 MB\u001b[0m \u001b[31m82.9 MB/s\u001b[0m eta \u001b[36m0:00:00\u001b[0m\n",
            "\u001b[2K   \u001b[90m━━━━━━━━━━━━━━━━━━━━━━━━━━━━━━━━━━━━━━━━\u001b[0m \u001b[32m6.9/6.9 MB\u001b[0m \u001b[31m102.1 MB/s\u001b[0m eta \u001b[36m0:00:00\u001b[0m\n",
            "\u001b[?25hngrok: no process found\n",
            "Authtoken saved to configuration file: /root/.config/ngrok/ngrok.yml\n",
            "Extracted ZIP to: /content/app_folder\n",
            "Found app.py at: /content/app_folder/ai-resume-job-match/app.py\n",
            "🌐 Your Streamlit app is live at: NgrokTunnel: \"https://0346df0e1683.ngrok-free.app\" -> \"http://localhost:8501\"\n",
            "You can now open the above URL in your browser to use the app.\n"
          ]
        }
      ],
      "source": [
        "# -----------------------------\n",
        "# 1️⃣ Install required packages\n",
        "# -----------------------------\n",
        "!pip install streamlit pyngrok --quiet\n",
        "\n",
        "# -----------------------------\n",
        "# 2️⃣ Import libraries\n",
        "# -----------------------------\n",
        "import zipfile\n",
        "import os\n",
        "from pyngrok import ngrok\n",
        "import time\n",
        "\n",
        "# -----------------------------\n",
        "# 3️⃣ Kill any running Ngrok processes and remove old configs\n",
        "# -----------------------------\n",
        "!killall ngrok\n",
        "!rm -rf /root/.config/ngrok\n",
        "\n",
        "# -----------------------------\n",
        "# 4️⃣ Set your NEW Ngrok token\n",
        "# -----------------------------\n",
        "NGROK_AUTH_TOKEN = \"32B5vUwLdqrmV974xvlrBISwK7f_3n2s8fpHgXqMbTv25TiDD\"\n",
        "!ngrok authtoken {NGROK_AUTH_TOKEN}\n",
        "\n",
        "# -----------------------------\n",
        "# 5️⃣ Extract your ZIP\n",
        "# -----------------------------\n",
        "ZIP_PATH = \"/content/ai-resume-job-match.zip\"  # Update if needed\n",
        "EXTRACT_FOLDER = \"/content/app_folder\"\n",
        "\n",
        "with zipfile.ZipFile(ZIP_PATH, 'r') as zip_ref:\n",
        "    zip_ref.extractall(EXTRACT_FOLDER)\n",
        "print(f\"Extracted ZIP to: {EXTRACT_FOLDER}\")\n",
        "\n",
        "# -----------------------------\n",
        "# 6️⃣ Find app.py automatically\n",
        "# -----------------------------\n",
        "def find_app_py(folder):\n",
        "    for root, dirs, files in os.walk(folder):\n",
        "        if \"app.py\" in files:\n",
        "            return os.path.join(root, \"app.py\")\n",
        "    return None\n",
        "\n",
        "app_path = find_app_py(EXTRACT_FOLDER)\n",
        "if app_path is None:\n",
        "    raise FileNotFoundError(\"No app.py found in the extracted folder!\")\n",
        "print(f\"Found app.py at: {app_path}\")\n",
        "\n",
        "# -----------------------------\n",
        "# 7️⃣ Run Streamlit app in background\n",
        "# -----------------------------\n",
        "PORT = 8501\n",
        "os.chdir(os.path.dirname(app_path))\n",
        "get_ipython().system_raw(f\"streamlit run {os.path.basename(app_path)} --server.port {PORT} &\")\n",
        "\n",
        "# -----------------------------\n",
        "# 8️⃣ Start Ngrok tunnel\n",
        "# -----------------------------\n",
        "public_url = ngrok.connect(PORT)\n",
        "print(f\"🌐 Your Streamlit app is live at: {public_url}\")\n",
        "\n",
        "# Wait a few seconds for app to start\n",
        "time.sleep(5)\n",
        "print(\"You can now open the above URL in your browser to use the app.\")\n"
      ]
    }
  ]
}